{
  "nbformat": 4,
  "nbformat_minor": 0,
  "metadata": {
    "colab": {
      "provenance": [],
      "toc_visible": true,
      "authorship_tag": "ABX9TyNFb+CLxLhrPBgCqSQgFWYr",
      "include_colab_link": true
    },
    "kernelspec": {
      "name": "python3",
      "display_name": "Python 3"
    },
    "language_info": {
      "name": "python"
    },
    "widgets": {
      "application/vnd.jupyter.widget-state+json": {
        "f7f69897357e46c9b3eed6909f67f730": {
          "model_module": "@jupyter-widgets/controls",
          "model_name": "IntSliderModel",
          "model_module_version": "1.5.0",
          "state": {
            "_dom_classes": [],
            "_model_module": "@jupyter-widgets/controls",
            "_model_module_version": "1.5.0",
            "_model_name": "IntSliderModel",
            "_view_count": null,
            "_view_module": "@jupyter-widgets/controls",
            "_view_module_version": "1.5.0",
            "_view_name": "IntSliderView",
            "continuous_update": true,
            "description": "Slider:",
            "description_tooltip": null,
            "disabled": false,
            "layout": "IPY_MODEL_b5d2da60bb094f66bb3e33939ad87efc",
            "max": 10,
            "min": 1,
            "orientation": "horizontal",
            "readout": true,
            "readout_format": "d",
            "step": 1,
            "style": "IPY_MODEL_f014006d19cd4ced8f69bf4cb5418374",
            "value": 4
          }
        },
        "b5d2da60bb094f66bb3e33939ad87efc": {
          "model_module": "@jupyter-widgets/base",
          "model_name": "LayoutModel",
          "model_module_version": "1.2.0",
          "state": {
            "_model_module": "@jupyter-widgets/base",
            "_model_module_version": "1.2.0",
            "_model_name": "LayoutModel",
            "_view_count": null,
            "_view_module": "@jupyter-widgets/base",
            "_view_module_version": "1.2.0",
            "_view_name": "LayoutView",
            "align_content": null,
            "align_items": null,
            "align_self": null,
            "border": null,
            "bottom": null,
            "display": null,
            "flex": null,
            "flex_flow": null,
            "grid_area": null,
            "grid_auto_columns": null,
            "grid_auto_flow": null,
            "grid_auto_rows": null,
            "grid_column": null,
            "grid_gap": null,
            "grid_row": null,
            "grid_template_areas": null,
            "grid_template_columns": null,
            "grid_template_rows": null,
            "height": null,
            "justify_content": null,
            "justify_items": null,
            "left": null,
            "margin": null,
            "max_height": null,
            "max_width": null,
            "min_height": null,
            "min_width": null,
            "object_fit": null,
            "object_position": null,
            "order": null,
            "overflow": null,
            "overflow_x": null,
            "overflow_y": null,
            "padding": null,
            "right": null,
            "top": null,
            "visibility": null,
            "width": null
          }
        },
        "f014006d19cd4ced8f69bf4cb5418374": {
          "model_module": "@jupyter-widgets/controls",
          "model_name": "SliderStyleModel",
          "model_module_version": "1.5.0",
          "state": {
            "_model_module": "@jupyter-widgets/controls",
            "_model_module_version": "1.5.0",
            "_model_name": "SliderStyleModel",
            "_view_count": null,
            "_view_module": "@jupyter-widgets/base",
            "_view_module_version": "1.2.0",
            "_view_name": "StyleView",
            "description_width": "",
            "handle_color": null
          }
        }
      }
    }
  },
  "cells": [
    {
      "cell_type": "markdown",
      "metadata": {
        "id": "view-in-github",
        "colab_type": "text"
      },
      "source": [
        "<a href=\"https://colab.research.google.com/github/bittu9835/Calculator/blob/main/colab_examples.ipynb\" target=\"_parent\"><img src=\"https://colab.research.google.com/assets/colab-badge.svg\" alt=\"Open In Colab\"/></a>"
      ]
    },
    {
      "cell_type": "markdown",
      "source": [
        "### **Basic Python Operations**"
      ],
      "metadata": {
        "id": "J1fiXyxtm150"
      }
    },
    {
      "cell_type": "code",
      "source": [
        "# Basic Python operations\n",
        "a = 10\n",
        "b = 20\n",
        "\n",
        "# Addition\n",
        "sum_result = a + b\n",
        "\n",
        "# Subtraction\n",
        "diff_result = b - a\n",
        "\n",
        "# Display results\n",
        "print(\"Sum:\", sum_result)\n",
        "print(\"Difference:\", diff_result)\n"
      ],
      "metadata": {
        "colab": {
          "base_uri": "https://localhost:8080/"
        },
        "id": "UCeY_mQanLcA",
        "outputId": "108411f7-db7d-41ff-8f43-55a92332ca6d"
      },
      "execution_count": 13,
      "outputs": [
        {
          "output_type": "stream",
          "name": "stdout",
          "text": [
            "Sum: 30\n",
            "Difference: 10\n"
          ]
        }
      ]
    },
    {
      "cell_type": "markdown",
      "source": [
        "### Data Analysis with **Pandas**"
      ],
      "metadata": {
        "id": "zhZNIsPEnaO2"
      }
    },
    {
      "cell_type": "code",
      "source": [
        "import pandas as pd\n",
        "\n",
        "# Load a sample dataset\n",
        "url = 'https://raw.githubusercontent.com/mwaskom/seaborn-data/master/tips.csv'\n",
        "tips = pd.read_csv(url)\n",
        "\n",
        "# Display the first few rows of the dataset\n",
        "print(tips.head())\n",
        "\n",
        "# Summary statistics\n",
        "print(tips.describe())\n",
        "\n",
        "# Group by day and calculate the average total bill\n",
        "avg_bill_per_day = tips.groupby('day')['total_bill'].mean()\n",
        "print(avg_bill_per_day)\n"
      ],
      "metadata": {
        "colab": {
          "base_uri": "https://localhost:8080/"
        },
        "id": "M6hzihXenimJ",
        "outputId": "3b99ceee-48b0-44e9-92a3-7bdc3d848993"
      },
      "execution_count": 14,
      "outputs": [
        {
          "output_type": "stream",
          "name": "stdout",
          "text": [
            "   total_bill   tip     sex smoker  day    time  size\n",
            "0       16.99  1.01  Female     No  Sun  Dinner     2\n",
            "1       10.34  1.66    Male     No  Sun  Dinner     3\n",
            "2       21.01  3.50    Male     No  Sun  Dinner     3\n",
            "3       23.68  3.31    Male     No  Sun  Dinner     2\n",
            "4       24.59  3.61  Female     No  Sun  Dinner     4\n",
            "       total_bill         tip        size\n",
            "count  244.000000  244.000000  244.000000\n",
            "mean    19.785943    2.998279    2.569672\n",
            "std      8.902412    1.383638    0.951100\n",
            "min      3.070000    1.000000    1.000000\n",
            "25%     13.347500    2.000000    2.000000\n",
            "50%     17.795000    2.900000    2.000000\n",
            "75%     24.127500    3.562500    3.000000\n",
            "max     50.810000   10.000000    6.000000\n",
            "day\n",
            "Fri     17.151579\n",
            "Sat     20.441379\n",
            "Sun     21.410000\n",
            "Thur    17.682742\n",
            "Name: total_bill, dtype: float64\n"
          ]
        }
      ]
    },
    {
      "cell_type": "markdown",
      "source": [
        "### Data Visualization with **Matplotlib**"
      ],
      "metadata": {
        "id": "aoQzLk8tnuPc"
      }
    },
    {
      "cell_type": "code",
      "source": [
        "import matplotlib.pyplot as plt\n",
        "\n",
        "# Scatter plot of total bill vs. tip\n",
        "plt.scatter(tips['total_bill'], tips['tip'])\n",
        "plt.title('Total Bill vs. Tip')\n",
        "plt.xlabel('Total Bill')\n",
        "plt.ylabel('Tip')\n",
        "plt.show()\n"
      ],
      "metadata": {
        "colab": {
          "base_uri": "https://localhost:8080/",
          "height": 472
        },
        "id": "lGxhYB36n24R",
        "outputId": "73316610-fc87-44c8-ffc3-744580477561"
      },
      "execution_count": 15,
      "outputs": [
        {
          "output_type": "display_data",
          "data": {
            "text/plain": [
              "<Figure size 640x480 with 1 Axes>"
            ],
            "image/png": "[encoded data removed]"
          },
          "metadata": {}
        }
      ]
    },
    {
      "cell_type": "markdown",
      "source": [
        "### Machine Learning with Scikit-**learn**"
      ],
      "metadata": {
        "id": "lOtCynKRn8dB"
      }
    },
    {
      "cell_type": "code",
      "source": [
        "import numpy as np\n",
        "from sklearn.linear_model import LinearRegression\n",
        "\n",
        "# Generate some sample data\n",
        "X = np.array([[1], [2], [3], [4], [5]])\n",
        "y = np.array([1, 4, 3, 8, 10])\n",
        "\n",
        "# Create and train the model\n",
        "model = LinearRegression()\n",
        "model.fit(X, y)\n",
        "\n",
        "# Make predictions\n",
        "predictions = model.predict(X)\n",
        "\n",
        "# Display the results\n",
        "print(\"Predictions:\", predictions)\n",
        "print(\"Actual values:\", y)\n"
      ],
      "metadata": {
        "colab": {
          "base_uri": "https://localhost:8080/"
        },
        "id": "N0WAvsfqoEmm",
        "outputId": "05e87032-075c-4664-a5d8-b7c8668f9ee7"
      },
      "execution_count": 16,
      "outputs": [
        {
          "output_type": "stream",
          "name": "stdout",
          "text": [
            "Predictions: [0.8 3.  5.2 7.4 9.6]\n",
            "Actual values: [ 1  4  3  8 10]\n"
          ]
        }
      ]
    },
    {
      "cell_type": "markdown",
      "source": [
        "### Interactive Widgets with **IPython**"
      ],
      "metadata": {
        "id": "-mrShgNNoUeb"
      }
    },
    {
      "cell_type": "code",
      "source": [
        "import ipywidgets as widgets\n",
        "from IPython.display import display\n",
        "\n",
        "# Create a slider widget\n",
        "slider = widgets.IntSlider(value=5, min=1, max=10, step=1, description='Slider:')\n",
        "\n",
        "# Create a function to respond to slider changes\n",
        "def on_slider_change(change):\n",
        "    print(f'Slider value: {change[\"new\"]}')\n",
        "\n",
        "# Attach the function to the slider's value change event\n",
        "slider.observe(on_slider_change, names='value')\n",
        "\n",
        "# Display the slider\n",
        "display(slider)\n"
      ],
      "metadata": {
        "colab": {
          "base_uri": "https://localhost:8080/",
          "height": 101,
          "referenced_widgets": [
            "f7f69897357e46c9b3eed6909f67f730",
            "b5d2da60bb094f66bb3e33939ad87efc",
            "f014006d19cd4ced8f69bf4cb5418374"
          ]
        },
        "id": "s4q9cJVEoW58",
        "outputId": "e5ce3eb7-8013-44a6-aa3f-9fdb5054530d"
      },
      "execution_count": 17,
      "outputs": [
        {
          "output_type": "display_data",
          "data": {
            "text/plain": [
              "IntSlider(value=5, description='Slider:', max=10, min=1)"
            ],
            "application/vnd.jupyter.widget-view+json": {
              "version_major": 2,
              "version_minor": 0,
              "model_id": "f7f69897357e46c9b3eed6909f67f730"
            }
          },
          "metadata": {}
        },
        {
          "output_type": "stream",
          "name": "stdout",
          "text": [
            "Slider value: 6\n",
            "Slider value: 3\n",
            "Slider value: 4\n"
          ]
        }
      ]
    },
    {
      "cell_type": "markdown",
      "source": [
        "### Displaying HTML Content"
      ],
      "metadata": {
        "id": "Egi_0nbhojs2"
      }
    },
    {
      "cell_type": "code",
      "source": [
        "from IPython.display import HTML\n",
        "\n",
        "# Create an HTML string\n",
        "html_str = \"<h1>Hello, Colab!</h1><p>This is a paragraph.</p>\"\n",
        "\n",
        "# Display the HTML string\n",
        "display(HTML(html_str))\n"
      ],
      "metadata": {
        "colab": {
          "base_uri": "https://localhost:8080/",
          "height": 100
        },
        "id": "4GRk1UjxosJw",
        "outputId": "5ac694f1-2267-4db8-d83e-6fffdf1d093b"
      },
      "execution_count": 18,
      "outputs": [
        {
          "output_type": "display_data",
          "data": {
            "text/plain": [
              "<IPython.core.display.HTML object>"
            ],
            "text/html": [
              "<h1>Hello, Colab!</h1><p>This is a paragraph.</p>"
            ]
          },
          "metadata": {}
        }
      ]
    },
    {
      "cell_type": "markdown",
      "source": [
        "# My Analysis Project\n",
        "\n",
        "This notebook demonstrates various data analysis and machine learning techniques using Google Colab.\n",
        "\n",
        "## Sections\n",
        "1. Data Loading\n",
        "2. Data Analysis\n",
        "3. Data Visualization\n",
        "4. Machine Learning\n",
        "5. Deep Learning\n"
      ],
      "metadata": {
        "id": "46Fhx7T8o2NV"
      }
    }
  ]
}